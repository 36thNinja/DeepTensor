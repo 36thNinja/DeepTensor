{
  "nbformat": 4,
  "nbformat_minor": 0,
  "metadata": {
    "kernelspec": {
      "display_name": "Python 3",
      "language": "python",
      "name": "python3"
    },
    "language_info": {
      "codemirror_mode": {
        "name": "ipython",
        "version": 3
      },
      "file_extension": ".py",
      "mimetype": "text/x-python",
      "name": "python",
      "nbconvert_exporter": "python",
      "pygments_lexer": "ipython3",
      "version": "3.7.6"
    },
    "colab": {
      "name": "Deep Tensor1.ipynb",
      "provenance": []
    }
  },
  "cells": [
    {
      "cell_type": "code",
      "metadata": {
        "id": "OuWWhnePTZ_6",
        "colab_type": "code",
        "colab": {
          "base_uri": "https://localhost:8080/",
          "height": 50
        },
        "outputId": "d041789e-cb8e-4d64-c4c8-7332b084f856"
      },
      "source": [
        "import cv2\n",
        "import numpy as np\n",
        "import tensorflow as tf\n",
        "\n",
        "IMAGE_PATH = 'cat.jpg'\n",
        "LAYER_NAME = 'block5_conv3'\n",
        "CAT_CLASS_INDEX = 281\n",
        "\n",
        "img = tf.keras.preprocessing.image.load_img(IMAGE_PATH, target_size=(224, 224))\n",
        "img = tf.keras.preprocessing.image.img_to_array(img)\n",
        "\n",
        "model = tf.keras.applications.vgg16.VGG16(weights='imagenet', include_top=True)\n",
        "\n",
        "grad_model = tf.keras.models.Model([model.inputs], [model.get_layer(LAYER_NAME).output, model.output])\n",
        "\n",
        "with tf.GradientTape() as tape:\n",
        "    conv_outputs, predictions = grad_model(np.array([img]))\n",
        "    loss = predictions[:, CAT_CLASS_INDEX]\n",
        "\n",
        "output = conv_outputs[0]\n",
        "grads = tape.gradient(loss, conv_outputs)[0]\n",
        "\n",
        "gate_f = tf.cast(output > 0, 'float32')\n",
        "gate_r = tf.cast(grads > 0, 'float32')\n",
        "guided_grads = tf.cast(output > 0, 'float32') * tf.cast(grads > 0, 'float32') * grads\n",
        "\n",
        "weights = tf.reduce_mean(guided_grads, axis=(0, 1))\n",
        "\n",
        "cam = np.ones(output.shape[0: 2], dtype = np.float32)\n",
        "\n",
        "for i, w in enumerate(weights):\n",
        "    cam += w * output[:, :, i]\n",
        "\n",
        "cam = cv2.resize(cam.numpy(), (224, 224))\n",
        "cam = np.maximum(cam, 0)\n",
        "heatmap = (cam - cam.min()) / (cam.max() - cam.min())\n",
        "\n",
        "cam = cv2.applyColorMap(np.uint8(255*heatmap), cv2.COLORMAP_JET)\n",
        "\n",
        "output_image = cv2.addWeighted(cv2.cvtColor(img.astype('uint8'), cv2.COLOR_RGB2BGR), 0.5, cam, 1, 0)\n",
        "\n",
        "cv2.imwrite('cam.png', output_image)"
      ],
      "execution_count": null,
      "outputs": [
        {
          "output_type": "stream",
          "text": [
            "Downloading data from https://storage.googleapis.com/tensorflow/keras-applications/vgg16/vgg16_weights_tf_dim_ordering_tf_kernels.h5\n",
            "503324672/553467096 [==========================>...] - ETA: 1s"
          ],
          "name": "stdout"
        }
      ]
    },
    {
      "cell_type": "code",
      "metadata": {
        "id": "-itaMuaPThO6",
        "colab_type": "code",
        "colab": {
          "base_uri": "https://localhost:8080/",
          "height": 202
        },
        "outputId": "976412ea-31f9-4356-db98-878bf72b74c3"
      },
      "source": [
        "!wget https://upload.wikimedia.org/wikipedia/commons/1/1a/Arthur%2C_the_cat.jpg > cat.jpg"
      ],
      "execution_count": 10,
      "outputs": [
        {
          "output_type": "stream",
          "text": [
            "--2020-09-01 11:01:25--  https://upload.wikimedia.org/wikipedia/commons/1/1a/Arthur%2C_the_cat.jpg\n",
            "Resolving upload.wikimedia.org (upload.wikimedia.org)... 91.198.174.208, 2620:0:862:ed1a::2:b\n",
            "Connecting to upload.wikimedia.org (upload.wikimedia.org)|91.198.174.208|:443... connected.\n",
            "HTTP request sent, awaiting response... 200 OK\n",
            "Length: 2636769 (2.5M) [image/jpeg]\n",
            "Saving to: ‘Arthur,_the_cat.jpg’\n",
            "\n",
            "Arthur,_the_cat.jpg 100%[===================>]   2.51M  --.-KB/s    in 0.1s    \n",
            "\n",
            "2020-09-01 11:01:25 (25.0 MB/s) - ‘Arthur,_the_cat.jpg’ saved [2636769/2636769]\n",
            "\n"
          ],
          "name": "stdout"
        }
      ]
    },
    {
      "cell_type": "code",
      "metadata": {
        "id": "I2F6aKzxUtVp",
        "colab_type": "code",
        "colab": {
          "base_uri": "https://localhost:8080/",
          "height": 128
        },
        "outputId": "3a3a161c-4ac7-48f3-9635-30eb4f3bf29e"
      },
      "source": [
        "curl -O https://www.python.org/static/apple-touch-icon-144x144-precomposed.png"
      ],
      "execution_count": 9,
      "outputs": [
        {
          "output_type": "error",
          "ename": "SyntaxError",
          "evalue": "ignored",
          "traceback": [
            "\u001b[0;36m  File \u001b[0;32m\"<ipython-input-9-fa564613c524>\"\u001b[0;36m, line \u001b[0;32m1\u001b[0m\n\u001b[0;31m    curl -O https://www.python.org/static/apple-touch-icon-144x144-precomposed.png\u001b[0m\n\u001b[0m                ^\u001b[0m\n\u001b[0;31mSyntaxError\u001b[0m\u001b[0;31m:\u001b[0m invalid syntax\n"
          ]
        }
      ]
    },
    {
      "cell_type": "code",
      "metadata": {
        "id": "3pEhhjzrUxTT",
        "colab_type": "code",
        "colab": {}
      },
      "source": [
        ""
      ],
      "execution_count": null,
      "outputs": []
    },
    {
      "cell_type": "code",
      "metadata": {
        "id": "Cav_axgDUlgu",
        "colab_type": "code",
        "colab": {}
      },
      "source": [
        ""
      ],
      "execution_count": null,
      "outputs": []
    }
  ]
}